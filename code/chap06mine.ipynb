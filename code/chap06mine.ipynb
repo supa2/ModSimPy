{
 "cells": [
  {
   "cell_type": "markdown",
   "metadata": {},
   "source": [
    "# Modeling and Simulation in Python\n",
    "\n",
    "Chapter 6\n",
    "\n",
    "Copyright 2017 Allen Downey\n",
    "\n",
    "License: [Creative Commons Attribution 4.0 International](https://creativecommons.org/licenses/by/4.0)\n"
   ]
  },
  {
   "cell_type": "code",
   "execution_count": 1,
   "metadata": {},
   "outputs": [],
   "source": [
    "# Configure Jupyter so figures appear in the notebook\n",
    "%matplotlib inline\n",
    "\n",
    "# Configure Jupyter to display the assigned value after an assignment\n",
    "%config InteractiveShell.ast_node_interactivity='last_expr_or_assign'\n",
    "\n",
    "# import functions from the modsim.py module\n",
    "from modsim import *\n",
    "\n",
    "from pandas import read_html"
   ]
  },
  {
   "cell_type": "markdown",
   "metadata": {},
   "source": [
    "### Code from the previous chapter\n",
    "\n"
   ]
  },
  {
   "cell_type": "code",
   "execution_count": 2,
   "metadata": {},
   "outputs": [],
   "source": [
    "filename = 'data/World_population_estimates.html'\n",
    "tables = read_html(filename, header=0, index_col=0, decimal='M')\n",
    "table2 = tables[2]\n",
    "table2.columns = ['census', 'prb', 'un', 'maddison', \n",
    "                  'hyde', 'tanton', 'biraben', 'mj', \n",
    "                  'thomlinson', 'durand', 'clark']"
   ]
  },
  {
   "cell_type": "code",
   "execution_count": 3,
   "metadata": {},
   "outputs": [
    {
     "data": {
      "text/plain": [
       "Year\n",
       "1950    2.525149\n",
       "1951    2.572851\n",
       "1952    2.619292\n",
       "1953    2.665865\n",
       "1954    2.713172\n",
       "Name: un, dtype: float64"
      ]
     },
     "execution_count": 3,
     "metadata": {},
     "output_type": "execute_result"
    }
   ],
   "source": [
    "un = table2.un / 1e9\n",
    "un.head()"
   ]
  },
  {
   "cell_type": "code",
   "execution_count": 4,
   "metadata": {},
   "outputs": [
    {
     "data": {
      "text/plain": [
       "Year\n",
       "1950    2.557629\n",
       "1951    2.594940\n",
       "1952    2.636772\n",
       "1953    2.682053\n",
       "1954    2.730228\n",
       "Name: census, dtype: float64"
      ]
     },
     "execution_count": 4,
     "metadata": {},
     "output_type": "execute_result"
    }
   ],
   "source": [
    "census = table2.census / 1e9\n",
    "census.head()"
   ]
  },
  {
   "cell_type": "code",
   "execution_count": 5,
   "metadata": {},
   "outputs": [
    {
     "data": {
      "text/plain": [
       "0.07224800083333333"
      ]
     },
     "execution_count": 5,
     "metadata": {},
     "output_type": "execute_result"
    }
   ],
   "source": [
    "t_0 = get_first_label(census)\n",
    "t_end = get_last_label(census)\n",
    "elapsed_time = t_end - t_0\n",
    "\n",
    "p_0 = get_first_value(census)\n",
    "p_end = get_last_value(census)\n",
    "total_growth = p_end - p_0\n",
    "\n",
    "annual_growth = total_growth / elapsed_time"
   ]
  },
  {
   "cell_type": "markdown",
   "metadata": {},
   "source": [
    "### System objects"
   ]
  },
  {
   "cell_type": "markdown",
   "metadata": {},
   "source": [
    "We can rewrite the code from the previous chapter using system objects."
   ]
  },
  {
   "cell_type": "code",
   "execution_count": 6,
   "metadata": {},
   "outputs": [
    {
     "data": {
      "text/html": [
       "<div>\n",
       "<style scoped>\n",
       "    .dataframe tbody tr th:only-of-type {\n",
       "        vertical-align: middle;\n",
       "    }\n",
       "\n",
       "    .dataframe tbody tr th {\n",
       "        vertical-align: top;\n",
       "    }\n",
       "\n",
       "    .dataframe thead th {\n",
       "        text-align: right;\n",
       "    }\n",
       "</style>\n",
       "<table border=\"1\" class=\"dataframe\">\n",
       "  <thead>\n",
       "    <tr style=\"text-align: right;\">\n",
       "      <th></th>\n",
       "      <th>values</th>\n",
       "    </tr>\n",
       "  </thead>\n",
       "  <tbody>\n",
       "    <tr>\n",
       "      <th>t_0</th>\n",
       "      <td>1950.000000</td>\n",
       "    </tr>\n",
       "    <tr>\n",
       "      <th>t_end</th>\n",
       "      <td>2016.000000</td>\n",
       "    </tr>\n",
       "    <tr>\n",
       "      <th>p_0</th>\n",
       "      <td>2.557629</td>\n",
       "    </tr>\n",
       "    <tr>\n",
       "      <th>annual_growth</th>\n",
       "      <td>0.072248</td>\n",
       "    </tr>\n",
       "  </tbody>\n",
       "</table>\n",
       "</div>"
      ],
      "text/plain": [
       "t_0              1950.000000\n",
       "t_end            2016.000000\n",
       "p_0                 2.557629\n",
       "annual_growth       0.072248\n",
       "dtype: float64"
      ]
     },
     "execution_count": 6,
     "metadata": {},
     "output_type": "execute_result"
    }
   ],
   "source": [
    "system = System(t_0=t_0, \n",
    "                t_end=t_end,\n",
    "                p_0=p_0,\n",
    "                annual_growth=annual_growth)"
   ]
  },
  {
   "cell_type": "markdown",
   "metadata": {},
   "source": [
    "And we can encapsulate the code that runs the model in a function."
   ]
  },
  {
   "cell_type": "code",
   "execution_count": 7,
   "metadata": {},
   "outputs": [],
   "source": [
    "def run_simulation1(system):\n",
    "    \"\"\"Runs the constant growth model.\n",
    "    \n",
    "    system: System object\n",
    "    \n",
    "    returns: TimeSeries\n",
    "    \"\"\"\n",
    "    results = TimeSeries()\n",
    "    results[system.t_0] = system.p_0\n",
    "    \n",
    "    for t in linrange(system.t_0, system.t_end-1):\n",
    "        results[t+1] = results[t] + system.annual_growth\n",
    "    \n",
    "    return results"
   ]
  },
  {
   "cell_type": "markdown",
   "metadata": {},
   "source": [
    "We can also encapsulate the code that plots the results."
   ]
  },
  {
   "cell_type": "code",
   "execution_count": 8,
   "metadata": {},
   "outputs": [],
   "source": [
    "def plot_results(census, un, timeseries, title):\n",
    "    \"\"\"Plot the estimates and the model.\n",
    "    \n",
    "    census: TimeSeries of population estimates\n",
    "    un: TimeSeries of population estimates\n",
    "    timeseries: TimeSeries of simulation results\n",
    "    title: string\n",
    "    \"\"\"\n",
    "    plot(census, ':', label='US Census')\n",
    "    plot(un, '--', label='UN DESA')\n",
    "    plot(timeseries, color='gray', label='model')\n",
    "    \n",
    "    decorate(xlabel='Year', \n",
    "             ylabel='World population (billion)',\n",
    "             title=title)"
   ]
  },
  {
   "cell_type": "markdown",
   "metadata": {},
   "source": [
    "Here's how we run it."
   ]
  },
  {
   "cell_type": "code",
   "execution_count": 9,
   "metadata": {},
   "outputs": [
    {
     "data": {
      "image/png": "[encoded data removed]",
      "text/plain": [
       "<Figure size 432x288 with 1 Axes>"
      ]
     },
     "metadata": {},
     "output_type": "display_data"
    }
   ],
   "source": [
    "results = run_simulation1(system)\n",
    "plot_results(census, un, results, 'Constant growth model')"
   ]
  },
  {
   "cell_type": "markdown",
   "metadata": {},
   "source": [
    "## Proportional growth"
   ]
  },
  {
   "cell_type": "markdown",
   "metadata": {},
   "source": [
    "Here's a more realistic model where the number of births and deaths is proportional to the current population."
   ]
  },
  {
   "cell_type": "code",
   "execution_count": 10,
   "metadata": {},
   "outputs": [],
   "source": [
    "def run_simulation2(system):\n",
    "    \"\"\"Run a model with proportional birth and death.\n",
    "    \n",
    "    system: System object\n",
    "    \n",
    "    returns: TimeSeries\n",
    "    \"\"\"\n",
    "    results = TimeSeries()\n",
    "    results[system.t_0] = system.p_0\n",
    "    \n",
    "    for t in linrange(system.t_0, system.t_end-1):\n",
    "        births = system.birth_rate * results[t]\n",
    "        deaths = system.death_rate * results[t]\n",
    "        results[t+1] = results[t] + births - deaths\n",
    "        \n",
    "    return results"
   ]
  },
  {
   "cell_type": "markdown",
   "metadata": {},
   "source": [
    "I picked a death rate that seemed reasonable and then adjusted the birth rate to fit the data."
   ]
  },
  {
   "cell_type": "code",
   "execution_count": 11,
   "metadata": {},
   "outputs": [],
   "source": [
    "system.death_rate = 0.01\n",
    "system.birth_rate = 0.027"
   ]
  },
  {
   "cell_type": "markdown",
   "metadata": {},
   "source": [
    "Here's what it looks like."
   ]
  },
  {
   "cell_type": "code",
   "execution_count": 12,
   "metadata": {},
   "outputs": [
    {
     "name": "stdout",
     "output_type": "stream",
     "text": [
      "Saving figure to file chap03-fig03.pdf\n"
     ]
    },
    {
     "data": {
      "image/png": "[encoded data removed]",
      "text/plain": [
       "<Figure size 432x288 with 1 Axes>"
      ]
     },
     "metadata": {},
     "output_type": "display_data"
    }
   ],
   "source": [
    "results = run_simulation2(system)\n",
    "plot_results(census, un, results, 'Proportional model')\n",
    "savefig('chap03-fig03.pdf')"
   ]
  },
  {
   "cell_type": "markdown",
   "metadata": {},
   "source": [
    "The model fits the data pretty well for the first 20 years, but not so well after that."
   ]
  },
  {
   "cell_type": "markdown",
   "metadata": {},
   "source": [
    "### Factoring out the update function"
   ]
  },
  {
   "cell_type": "markdown",
   "metadata": {},
   "source": [
    "`run_simulation1` and `run_simulation2` are nearly identical except the body of the loop.  So we can factor that part out into a function."
   ]
  },
  {
   "cell_type": "code",
   "execution_count": 13,
   "metadata": {},
   "outputs": [],
   "source": [
    "def update_func1(pop, t, system):\n",
    "    \"\"\"Compute the population next year.\n",
    "    \n",
    "    pop: current population\n",
    "    t: current year\n",
    "    system: system object containing parameters of the model\n",
    "    \n",
    "    returns: population next year\n",
    "    \"\"\"\n",
    "    print('t is ',t,'population is ',pop)\n",
    "    births = system.birth_rate * pop\n",
    "    deaths = system.death_rate * pop\n",
    "    return pop + births - deaths"
   ]
  },
  {
   "cell_type": "markdown",
   "metadata": {},
   "source": [
    "The name `update_func` refers to a function object."
   ]
  },
  {
   "cell_type": "code",
   "execution_count": 14,
   "metadata": {},
   "outputs": [
    {
     "data": {
      "text/plain": [
       "<function __main__.update_func1(pop, t, system)>"
      ]
     },
     "execution_count": 14,
     "metadata": {},
     "output_type": "execute_result"
    }
   ],
   "source": [
    "update_func1"
   ]
  },
  {
   "cell_type": "markdown",
   "metadata": {},
   "source": [
    "Which we can confirm by checking its type."
   ]
  },
  {
   "cell_type": "code",
   "execution_count": 15,
   "metadata": {},
   "outputs": [
    {
     "data": {
      "text/plain": [
       "function"
      ]
     },
     "execution_count": 15,
     "metadata": {},
     "output_type": "execute_result"
    }
   ],
   "source": [
    "type(update_func1)"
   ]
  },
  {
   "cell_type": "markdown",
   "metadata": {},
   "source": [
    "`run_simulation` takes the update function as a parameter and calls it just like any other function."
   ]
  },
  {
   "cell_type": "code",
   "execution_count": 16,
   "metadata": {},
   "outputs": [],
   "source": [
    "def run_simulation(system, update_func):\n",
    "    \"\"\"Simulate the system using any update function.\n",
    "    \n",
    "    system: System object\n",
    "    update_func: function that computes the population next year\n",
    "    \n",
    "    returns: TimeSeries\n",
    "    \"\"\"\n",
    "    results = TimeSeries()\n",
    "    results[system.t_0] = system.p_0\n",
    "    \n",
    "    for t in linrange(system.t_0, system.t_end-1):\n",
    "        results[t+1] = update_func(results[t], t, system)\n",
    "        \n",
    "    return results"
   ]
  },
  {
   "cell_type": "markdown",
   "metadata": {},
   "source": [
    "Here's how we use it."
   ]
  },
  {
   "cell_type": "code",
   "execution_count": 17,
   "metadata": {},
   "outputs": [
    {
     "data": {
      "text/html": [
       "<div>\n",
       "<style scoped>\n",
       "    .dataframe tbody tr th:only-of-type {\n",
       "        vertical-align: middle;\n",
       "    }\n",
       "\n",
       "    .dataframe tbody tr th {\n",
       "        vertical-align: top;\n",
       "    }\n",
       "\n",
       "    .dataframe thead th {\n",
       "        text-align: right;\n",
       "    }\n",
       "</style>\n",
       "<table border=\"1\" class=\"dataframe\">\n",
       "  <thead>\n",
       "    <tr style=\"text-align: right;\">\n",
       "      <th></th>\n",
       "      <th>values</th>\n",
       "    </tr>\n",
       "  </thead>\n",
       "  <tbody>\n",
       "    <tr>\n",
       "      <th>t_0</th>\n",
       "      <td>1950.000000</td>\n",
       "    </tr>\n",
       "    <tr>\n",
       "      <th>t_end</th>\n",
       "      <td>2016.000000</td>\n",
       "    </tr>\n",
       "    <tr>\n",
       "      <th>p_0</th>\n",
       "      <td>2.557629</td>\n",
       "    </tr>\n",
       "    <tr>\n",
       "      <th>birth_rate</th>\n",
       "      <td>0.027000</td>\n",
       "    </tr>\n",
       "    <tr>\n",
       "      <th>death_rate</th>\n",
       "      <td>0.010000</td>\n",
       "    </tr>\n",
       "  </tbody>\n",
       "</table>\n",
       "</div>"
      ],
      "text/plain": [
       "t_0           1950.000000\n",
       "t_end         2016.000000\n",
       "p_0              2.557629\n",
       "birth_rate       0.027000\n",
       "death_rate       0.010000\n",
       "dtype: float64"
      ]
     },
     "execution_count": 17,
     "metadata": {},
     "output_type": "execute_result"
    }
   ],
   "source": [
    "t_0 = get_first_label(census)\n",
    "t_end = get_last_label(census)\n",
    "p_0 = census[t_0]\n",
    "\n",
    "system = System(t_0=t_0, \n",
    "                t_end=t_end,\n",
    "                p_0=p_0,\n",
    "                birth_rate=0.027,\n",
    "                death_rate=0.01)"
   ]
  },
  {
   "cell_type": "code",
   "execution_count": 18,
   "metadata": {},
   "outputs": [
    {
     "name": "stdout",
     "output_type": "stream",
     "text": [
      "t is  1950.0 population is  2.557628654\n",
      "t is  1951.0 population is  2.601108341118\n",
      "t is  1952.0 population is  2.645327182917006\n",
      "t is  1953.0 population is  2.6902977450265952\n",
      "t is  1954.0 population is  2.7360328066920476\n",
      "t is  1955.0 population is  2.7825453644058125\n",
      "t is  1956.0 population is  2.829848635600711\n",
      "t is  1957.0 population is  2.8779560624059233\n",
      "t is  1958.0 population is  2.926881315466824\n",
      "t is  1959.0 population is  2.9766382978297603\n",
      "t is  1960.0 population is  3.0272411488928666\n",
      "t is  1961.0 population is  3.078704248424045\n",
      "t is  1962.0 population is  3.131042220647254\n",
      "t is  1963.0 population is  3.184269938398258\n",
      "t is  1964.0 population is  3.2384025273510284\n",
      "t is  1965.0 population is  3.293455370315996\n",
      "t is  1966.0 population is  3.349444111611368\n",
      "t is  1967.0 population is  3.406384661508761\n",
      "t is  1968.0 population is  3.46429320075441\n",
      "t is  1969.0 population is  3.523186185167235\n",
      "t is  1970.0 population is  3.583080350315078\n",
      "t is  1971.0 population is  3.6439927162704344\n",
      "t is  1972.0 population is  3.7059405924470314\n",
      "t is  1973.0 population is  3.768941582518631\n",
      "t is  1974.0 population is  3.833013589421448\n",
      "t is  1975.0 population is  3.8981748204416125\n",
      "t is  1976.0 population is  3.9644437923891203\n",
      "t is  1977.0 population is  4.031839336859735\n",
      "t is  1978.0 population is  4.100380605586351\n",
      "t is  1979.0 population is  4.170087075881319\n",
      "t is  1980.0 population is  4.240978556171301\n",
      "t is  1981.0 population is  4.313075191626214\n",
      "t is  1982.0 population is  4.3863974698838595\n",
      "t is  1983.0 population is  4.460966226871885\n",
      "t is  1984.0 population is  4.536802652728707\n",
      "t is  1985.0 population is  4.613928297825096\n",
      "t is  1986.0 population is  4.692365078888122\n",
      "t is  1987.0 population is  4.77213528522922\n",
      "t is  1988.0 population is  4.8532615850781164\n",
      "t is  1989.0 population is  4.935767032024445\n",
      "t is  1990.0 population is  5.0196750715688605\n",
      "t is  1991.0 population is  5.1050095477855315\n",
      "t is  1992.0 population is  5.191794710097886\n",
      "t is  1993.0 population is  5.28005522016955\n",
      "t is  1994.0 population is  5.369816158912433\n",
      "t is  1995.0 population is  5.461103033613944\n",
      "t is  1996.0 population is  5.553941785185382\n",
      "t is  1997.0 population is  5.648358795533533\n",
      "t is  1998.0 population is  5.744380895057604\n",
      "t is  1999.0 population is  5.8420353702735826\n",
      "t is  2000.0 population is  5.941349971568234\n",
      "t is  2001.0 population is  6.042352921084894\n",
      "t is  2002.0 population is  6.145072920743337\n",
      "t is  2003.0 population is  6.249539160395973\n",
      "t is  2004.0 population is  6.355781326122704\n",
      "t is  2005.0 population is  6.46382960866679\n",
      "t is  2006.0 population is  6.573714712014126\n",
      "t is  2007.0 population is  6.685467862118366\n",
      "t is  2008.0 population is  6.799120815774378\n",
      "t is  2009.0 population is  6.9147058696425425\n",
      "t is  2010.0 population is  7.032255869426465\n",
      "t is  2011.0 population is  7.151804219206714\n",
      "t is  2012.0 population is  7.273384890933229\n",
      "t is  2013.0 population is  7.397032434079093\n",
      "t is  2014.0 population is  7.522781985458438\n",
      "t is  2015.0 population is  7.650669279211232\n"
     ]
    },
    {
     "data": {
      "image/png": "[encoded data removed]",
      "text/plain": [
       "<Figure size 432x288 with 1 Axes>"
      ]
     },
     "metadata": {},
     "output_type": "display_data"
    }
   ],
   "source": [
    "results = run_simulation(system, update_func1)\n",
    "plot_results(census, un, results, 'Proportional model, factored')"
   ]
  },
  {
   "cell_type": "markdown",
   "metadata": {},
   "source": [
    "Remember not to put parentheses after `update_func1`.  What happens if you try?"
   ]
  },
  {
   "cell_type": "code",
   "execution_count": 19,
   "metadata": {},
   "outputs": [
    {
     "name": "stdout",
     "output_type": "stream",
     "text": [
      "t is  1950.0 population is  2.557628654\n",
      "t is  1951.0 population is  2.601108341118\n",
      "t is  1952.0 population is  2.645327182917006\n",
      "t is  1953.0 population is  2.6902977450265952\n",
      "t is  1954.0 population is  2.7360328066920476\n",
      "t is  1955.0 population is  2.7825453644058125\n",
      "t is  1956.0 population is  2.829848635600711\n",
      "t is  1957.0 population is  2.8779560624059233\n",
      "t is  1958.0 population is  2.926881315466824\n",
      "t is  1959.0 population is  2.9766382978297603\n",
      "t is  1960.0 population is  3.0272411488928666\n",
      "t is  1961.0 population is  3.078704248424045\n",
      "t is  1962.0 population is  3.131042220647254\n",
      "t is  1963.0 population is  3.184269938398258\n",
      "t is  1964.0 population is  3.2384025273510284\n",
      "t is  1965.0 population is  3.293455370315996\n",
      "t is  1966.0 population is  3.349444111611368\n",
      "t is  1967.0 population is  3.406384661508761\n",
      "t is  1968.0 population is  3.46429320075441\n",
      "t is  1969.0 population is  3.523186185167235\n",
      "t is  1970.0 population is  3.583080350315078\n",
      "t is  1971.0 population is  3.6439927162704344\n",
      "t is  1972.0 population is  3.7059405924470314\n",
      "t is  1973.0 population is  3.768941582518631\n",
      "t is  1974.0 population is  3.833013589421448\n",
      "t is  1975.0 population is  3.8981748204416125\n",
      "t is  1976.0 population is  3.9644437923891203\n",
      "t is  1977.0 population is  4.031839336859735\n",
      "t is  1978.0 population is  4.100380605586351\n",
      "t is  1979.0 population is  4.170087075881319\n",
      "t is  1980.0 population is  4.240978556171301\n",
      "t is  1981.0 population is  4.313075191626214\n",
      "t is  1982.0 population is  4.3863974698838595\n",
      "t is  1983.0 population is  4.460966226871885\n",
      "t is  1984.0 population is  4.536802652728707\n",
      "t is  1985.0 population is  4.613928297825096\n",
      "t is  1986.0 population is  4.692365078888122\n",
      "t is  1987.0 population is  4.77213528522922\n",
      "t is  1988.0 population is  4.8532615850781164\n",
      "t is  1989.0 population is  4.935767032024445\n",
      "t is  1990.0 population is  5.0196750715688605\n",
      "t is  1991.0 population is  5.1050095477855315\n",
      "t is  1992.0 population is  5.191794710097886\n",
      "t is  1993.0 population is  5.28005522016955\n",
      "t is  1994.0 population is  5.369816158912433\n",
      "t is  1995.0 population is  5.461103033613944\n",
      "t is  1996.0 population is  5.553941785185382\n",
      "t is  1997.0 population is  5.648358795533533\n",
      "t is  1998.0 population is  5.744380895057604\n",
      "t is  1999.0 population is  5.8420353702735826\n",
      "t is  2000.0 population is  5.941349971568234\n",
      "t is  2001.0 population is  6.042352921084894\n",
      "t is  2002.0 population is  6.145072920743337\n",
      "t is  2003.0 population is  6.249539160395973\n",
      "t is  2004.0 population is  6.355781326122704\n",
      "t is  2005.0 population is  6.46382960866679\n",
      "t is  2006.0 population is  6.573714712014126\n",
      "t is  2007.0 population is  6.685467862118366\n",
      "t is  2008.0 population is  6.799120815774378\n",
      "t is  2009.0 population is  6.9147058696425425\n",
      "t is  2010.0 population is  7.032255869426465\n",
      "t is  2011.0 population is  7.151804219206714\n",
      "t is  2012.0 population is  7.273384890933229\n",
      "t is  2013.0 population is  7.397032434079093\n",
      "t is  2014.0 population is  7.522781985458438\n",
      "t is  2015.0 population is  7.650669279211232\n"
     ]
    },
    {
     "data": {
      "image/png": "[encoded data removed]",
      "text/plain": [
       "<Figure size 432x288 with 1 Axes>"
      ]
     },
     "metadata": {},
     "output_type": "display_data"
    }
   ],
   "source": [
    "results = run_simulation(system, update_func1)\n",
    "plot_results(census, un, results, 'Proportional model, factored')"
   ]
  },
  {
   "cell_type": "markdown",
   "metadata": {},
   "source": [
    "**Exercise:** When you run `run_simulation`, it runs `update_func1` once for each year between `t_0` and `t_end`.  To see that for yourself, add a print statement at the beginning of `update_func1` that prints the values of `t` and `pop`, then run `run_simulation` again."
   ]
  },
  {
   "cell_type": "markdown",
   "metadata": {},
   "source": [
    "### Combining birth and death"
   ]
  },
  {
   "cell_type": "markdown",
   "metadata": {},
   "source": [
    "Since births and deaths get added up, we don't have to compute them separately.  We can combine the birth and death rates into a single net growth rate."
   ]
  },
  {
   "cell_type": "code",
   "execution_count": 20,
   "metadata": {},
   "outputs": [],
   "source": [
    "def update_func2(pop, t, system):\n",
    "    \"\"\"Compute the population next year.\n",
    "    \n",
    "    pop: current population\n",
    "    t: current year\n",
    "    system: system object containing parameters of the model\n",
    "    \n",
    "    returns: population next year\n",
    "    \"\"\"\n",
    "    net_growth = system.alpha  * pop\n",
    "    return pop + net_growth"
   ]
  },
  {
   "cell_type": "markdown",
   "metadata": {},
   "source": [
    "Here's how it works:"
   ]
  },
  {
   "cell_type": "code",
   "execution_count": 21,
   "metadata": {},
   "outputs": [
    {
     "data": {
      "image/png": "[encoded data removed]",
      "text/plain": [
       "<Figure size 432x288 with 1 Axes>"
      ]
     },
     "metadata": {},
     "output_type": "display_data"
    }
   ],
   "source": [
    "system.alpha = system.birth_rate - system.death_rate\n",
    "\n",
    "results = run_simulation(system, update_func2)\n",
    "plot_results(census, un, results, 'Proportional model, combined birth and death')"
   ]
  },
  {
   "cell_type": "markdown",
   "metadata": {},
   "source": [
    "### Exercises\n",
    "\n",
    "**Exercise:** Maybe the reason the proportional model doesn't work very well is that the growth rate, `alpha`, is changing over time.  So let's try a model with different growth rates before and after 1980 (as an arbitrary choice).\n",
    "\n",
    "Write an update function that takes `pop`, `t`, and `system` as parameters.  The system object, `system`, should contain two parameters: the growth rate before 1980, `alpha1`, and the growth rate after 1980, `alpha2`.  It should use `t` to determine which growth rate to use.  Note: Don't forget the `return` statement.\n",
    "\n",
    "Test your function by calling it directly, then pass it to `run_simulation`.  Plot the results.  Adjust the parameters `alpha1` and `alpha2` to fit the data as well as you can.\n",
    "\n"
   ]
  },
  {
   "cell_type": "code",
   "execution_count": 22,
   "metadata": {},
   "outputs": [
    {
     "data": {
      "text/html": [
       "<div>\n",
       "<style scoped>\n",
       "    .dataframe tbody tr th:only-of-type {\n",
       "        vertical-align: middle;\n",
       "    }\n",
       "\n",
       "    .dataframe tbody tr th {\n",
       "        vertical-align: top;\n",
       "    }\n",
       "\n",
       "    .dataframe thead th {\n",
       "        text-align: right;\n",
       "    }\n",
       "</style>\n",
       "<table border=\"1\" class=\"dataframe\">\n",
       "  <thead>\n",
       "    <tr style=\"text-align: right;\">\n",
       "      <th></th>\n",
       "      <th>values</th>\n",
       "    </tr>\n",
       "  </thead>\n",
       "  <tbody>\n",
       "    <tr>\n",
       "      <th>t_0</th>\n",
       "      <td>1950.000000</td>\n",
       "    </tr>\n",
       "    <tr>\n",
       "      <th>t_end</th>\n",
       "      <td>2016.000000</td>\n",
       "    </tr>\n",
       "    <tr>\n",
       "      <th>p_0</th>\n",
       "      <td>2.557629</td>\n",
       "    </tr>\n",
       "    <tr>\n",
       "      <th>alpha1</th>\n",
       "      <td>0.020000</td>\n",
       "    </tr>\n",
       "    <tr>\n",
       "      <th>alpha2</th>\n",
       "      <td>0.017000</td>\n",
       "    </tr>\n",
       "  </tbody>\n",
       "</table>\n",
       "</div>"
      ],
      "text/plain": [
       "t_0       1950.000000\n",
       "t_end     2016.000000\n",
       "p_0          2.557629\n",
       "alpha1       0.020000\n",
       "alpha2       0.017000\n",
       "dtype: float64"
      ]
     },
     "execution_count": 22,
     "metadata": {},
     "output_type": "execute_result"
    }
   ],
   "source": [
    "system = System(t_0=t_0, t_end=t_end, p_0=p_0, alpha1=0.02, alpha2=0.017)"
   ]
  },
  {
   "cell_type": "code",
   "execution_count": 28,
   "metadata": {
    "scrolled": false
   },
   "outputs": [],
   "source": [
    "def update_func2(pop, t, system):\n",
    "    print('the year is ', t)\n",
    "\n",
    "    if t < 1980:\n",
    "        alpha = system.alpha1 \n",
    "    else:\n",
    "        alpha = system.alpha2 \n",
    "        \n",
    "    print('alpha is ', alpha)\n",
    "    \n",
    "    net_growth = alpha  * pop\n",
    "    print('the net_growth is ', net_growth)\n",
    "    \n",
    "    return pop + net_growth\n",
    "    "
   ]
  },
  {
   "cell_type": "code",
   "execution_count": 29,
   "metadata": {},
   "outputs": [
    {
     "name": "stdout",
     "output_type": "stream",
     "text": [
      "the year is  1950.0\n",
      "alpha is  0.02\n",
      "the net_growth is  0.051152573080000006\n",
      "the year is  1951.0\n",
      "alpha is  0.02\n",
      "the net_growth is  0.052175624541600005\n",
      "the year is  1952.0\n",
      "alpha is  0.02\n",
      "the net_growth is  0.053219137032432\n",
      "the year is  1953.0\n",
      "alpha is  0.02\n",
      "the net_growth is  0.05428351977308064\n",
      "the year is  1954.0\n",
      "alpha is  0.02\n",
      "the net_growth is  0.05536919016854225\n",
      "the year is  1955.0\n",
      "alpha is  0.02\n",
      "the net_growth is  0.0564765739719131\n",
      "the year is  1956.0\n",
      "alpha is  0.02\n",
      "the net_growth is  0.057606105451351364\n",
      "the year is  1957.0\n",
      "alpha is  0.02\n",
      "the net_growth is  0.05875822756037839\n",
      "the year is  1958.0\n",
      "alpha is  0.02\n",
      "the net_growth is  0.05993339211158595\n",
      "the year is  1959.0\n",
      "alpha is  0.02\n",
      "the net_growth is  0.06113205995381767\n",
      "the year is  1960.0\n",
      "alpha is  0.02\n",
      "the net_growth is  0.06235470115289402\n",
      "the year is  1961.0\n",
      "alpha is  0.02\n",
      "the net_growth is  0.06360179517595191\n",
      "the year is  1962.0\n",
      "alpha is  0.02\n",
      "the net_growth is  0.06487383107947095\n",
      "the year is  1963.0\n",
      "alpha is  0.02\n",
      "the net_growth is  0.06617130770106036\n",
      "the year is  1964.0\n",
      "alpha is  0.02\n",
      "the net_growth is  0.06749473385508158\n",
      "the year is  1965.0\n",
      "alpha is  0.02\n",
      "the net_growth is  0.0688446285321832\n",
      "the year is  1966.0\n",
      "alpha is  0.02\n",
      "the net_growth is  0.07022152110282687\n",
      "the year is  1967.0\n",
      "alpha is  0.02\n",
      "the net_growth is  0.0716259515248834\n",
      "the year is  1968.0\n",
      "alpha is  0.02\n",
      "the net_growth is  0.07305847055538106\n",
      "the year is  1969.0\n",
      "alpha is  0.02\n",
      "the net_growth is  0.07451963996648868\n",
      "the year is  1970.0\n",
      "alpha is  0.02\n",
      "the net_growth is  0.07601003276581846\n",
      "the year is  1971.0\n",
      "alpha is  0.02\n",
      "the net_growth is  0.07753023342113484\n",
      "the year is  1972.0\n",
      "alpha is  0.02\n",
      "the net_growth is  0.07908083808955753\n",
      "the year is  1973.0\n",
      "alpha is  0.02\n",
      "the net_growth is  0.08066245485134868\n",
      "the year is  1974.0\n",
      "alpha is  0.02\n",
      "the net_growth is  0.08227570394837566\n",
      "the year is  1975.0\n",
      "alpha is  0.02\n",
      "the net_growth is  0.08392121802734316\n",
      "the year is  1976.0\n",
      "alpha is  0.02\n",
      "the net_growth is  0.08559964238789002\n",
      "the year is  1977.0\n",
      "alpha is  0.02\n",
      "the net_growth is  0.08731163523564782\n",
      "the year is  1978.0\n",
      "alpha is  0.02\n",
      "the net_growth is  0.08905786794036077\n",
      "the year is  1979.0\n",
      "alpha is  0.02\n",
      "the net_growth is  0.09083902529916799\n",
      "the year is  1980.0\n",
      "alpha is  0.017\n",
      "the net_growth is  0.07875743493437865\n",
      "the year is  1981.0\n",
      "alpha is  0.017\n",
      "the net_growth is  0.08009631132826309\n",
      "the year is  1982.0\n",
      "alpha is  0.017\n",
      "the net_growth is  0.08145794862084356\n",
      "the year is  1983.0\n",
      "alpha is  0.017\n",
      "the net_growth is  0.0828427337473979\n",
      "the year is  1984.0\n",
      "alpha is  0.017\n",
      "the net_growth is  0.08425106022110367\n",
      "the year is  1985.0\n",
      "alpha is  0.017\n",
      "the net_growth is  0.08568332824486243\n",
      "the year is  1986.0\n",
      "alpha is  0.017\n",
      "the net_growth is  0.0871399448250251\n",
      "the year is  1987.0\n",
      "alpha is  0.017\n",
      "the net_growth is  0.08862132388705052\n",
      "the year is  1988.0\n",
      "alpha is  0.017\n",
      "the net_growth is  0.09012788639313038\n",
      "the year is  1989.0\n",
      "alpha is  0.017\n",
      "the net_growth is  0.09166006046181359\n",
      "the year is  1990.0\n",
      "alpha is  0.017\n",
      "the net_growth is  0.09321828148966442\n",
      "the year is  1991.0\n",
      "alpha is  0.017\n",
      "the net_growth is  0.09480299227498873\n",
      "the year is  1992.0\n",
      "alpha is  0.017\n",
      "the net_growth is  0.09641464314366353\n",
      "the year is  1993.0\n",
      "alpha is  0.017\n",
      "the net_growth is  0.09805369207710582\n",
      "the year is  1994.0\n",
      "alpha is  0.017\n",
      "the net_growth is  0.09972060484241663\n",
      "the year is  1995.0\n",
      "alpha is  0.017\n",
      "the net_growth is  0.1014158551247377\n",
      "the year is  1996.0\n",
      "alpha is  0.017\n",
      "the net_growth is  0.10313992466185824\n",
      "the year is  1997.0\n",
      "alpha is  0.017\n",
      "the net_growth is  0.10489330338110983\n",
      "the year is  1998.0\n",
      "alpha is  0.017\n",
      "the net_growth is  0.1066764895385887\n",
      "the year is  1999.0\n",
      "alpha is  0.017\n",
      "the net_growth is  0.1084899898607447\n",
      "the year is  2000.0\n",
      "alpha is  0.017\n",
      "the net_growth is  0.11033431968837737\n",
      "the year is  2001.0\n",
      "alpha is  0.017\n",
      "the net_growth is  0.11221000312307979\n",
      "the year is  2002.0\n",
      "alpha is  0.017\n",
      "the net_growth is  0.11411757317617213\n",
      "the year is  2003.0\n",
      "alpha is  0.017\n",
      "the net_growth is  0.11605757192016707\n",
      "the year is  2004.0\n",
      "alpha is  0.017\n",
      "the net_growth is  0.1180305506428099\n",
      "the year is  2005.0\n",
      "alpha is  0.017\n",
      "the net_growth is  0.12003707000373767\n",
      "the year is  2006.0\n",
      "alpha is  0.017\n",
      "the net_growth is  0.12207770019380121\n",
      "the year is  2007.0\n",
      "alpha is  0.017\n",
      "the net_growth is  0.12415302109709583\n",
      "the year is  2008.0\n",
      "alpha is  0.017\n",
      "the net_growth is  0.1262636224557465\n",
      "the year is  2009.0\n",
      "alpha is  0.017\n",
      "the net_growth is  0.12841010403749417\n",
      "the year is  2010.0\n",
      "alpha is  0.017\n",
      "the net_growth is  0.13059307580613155\n",
      "the year is  2011.0\n",
      "alpha is  0.017\n",
      "the net_growth is  0.1328131580948358\n",
      "the year is  2012.0\n",
      "alpha is  0.017\n",
      "the net_growth is  0.135070981782448\n",
      "the year is  2013.0\n",
      "alpha is  0.017\n",
      "the net_growth is  0.1373671884727496\n",
      "the year is  2014.0\n",
      "alpha is  0.017\n",
      "the net_growth is  0.13970243067678634\n",
      "the year is  2015.0\n",
      "alpha is  0.017\n",
      "the net_growth is  0.1420773719982917\n"
     ]
    },
    {
     "data": {
      "text/html": [
       "<div>\n",
       "<style scoped>\n",
       "    .dataframe tbody tr th:only-of-type {\n",
       "        vertical-align: middle;\n",
       "    }\n",
       "\n",
       "    .dataframe tbody tr th {\n",
       "        vertical-align: top;\n",
       "    }\n",
       "\n",
       "    .dataframe thead th {\n",
       "        text-align: right;\n",
       "    }\n",
       "</style>\n",
       "<table border=\"1\" class=\"dataframe\">\n",
       "  <thead>\n",
       "    <tr style=\"text-align: right;\">\n",
       "      <th></th>\n",
       "      <th>values</th>\n",
       "    </tr>\n",
       "  </thead>\n",
       "  <tbody>\n",
       "    <tr>\n",
       "      <th>1950</th>\n",
       "      <td>2.557629</td>\n",
       "    </tr>\n",
       "    <tr>\n",
       "      <th>1951</th>\n",
       "      <td>2.608781</td>\n",
       "    </tr>\n",
       "    <tr>\n",
       "      <th>1952</th>\n",
       "      <td>2.660957</td>\n",
       "    </tr>\n",
       "    <tr>\n",
       "      <th>1953</th>\n",
       "      <td>2.714176</td>\n",
       "    </tr>\n",
       "    <tr>\n",
       "      <th>1954</th>\n",
       "      <td>2.768460</td>\n",
       "    </tr>\n",
       "    <tr>\n",
       "      <th>1955</th>\n",
       "      <td>2.823829</td>\n",
       "    </tr>\n",
       "    <tr>\n",
       "      <th>1956</th>\n",
       "      <td>2.880305</td>\n",
       "    </tr>\n",
       "    <tr>\n",
       "      <th>1957</th>\n",
       "      <td>2.937911</td>\n",
       "    </tr>\n",
       "    <tr>\n",
       "      <th>1958</th>\n",
       "      <td>2.996670</td>\n",
       "    </tr>\n",
       "    <tr>\n",
       "      <th>1959</th>\n",
       "      <td>3.056603</td>\n",
       "    </tr>\n",
       "    <tr>\n",
       "      <th>1960</th>\n",
       "      <td>3.117735</td>\n",
       "    </tr>\n",
       "    <tr>\n",
       "      <th>1961</th>\n",
       "      <td>3.180090</td>\n",
       "    </tr>\n",
       "    <tr>\n",
       "      <th>1962</th>\n",
       "      <td>3.243692</td>\n",
       "    </tr>\n",
       "    <tr>\n",
       "      <th>1963</th>\n",
       "      <td>3.308565</td>\n",
       "    </tr>\n",
       "    <tr>\n",
       "      <th>1964</th>\n",
       "      <td>3.374737</td>\n",
       "    </tr>\n",
       "    <tr>\n",
       "      <th>1965</th>\n",
       "      <td>3.442231</td>\n",
       "    </tr>\n",
       "    <tr>\n",
       "      <th>1966</th>\n",
       "      <td>3.511076</td>\n",
       "    </tr>\n",
       "    <tr>\n",
       "      <th>1967</th>\n",
       "      <td>3.581298</td>\n",
       "    </tr>\n",
       "    <tr>\n",
       "      <th>1968</th>\n",
       "      <td>3.652924</td>\n",
       "    </tr>\n",
       "    <tr>\n",
       "      <th>1969</th>\n",
       "      <td>3.725982</td>\n",
       "    </tr>\n",
       "    <tr>\n",
       "      <th>1970</th>\n",
       "      <td>3.800502</td>\n",
       "    </tr>\n",
       "    <tr>\n",
       "      <th>1971</th>\n",
       "      <td>3.876512</td>\n",
       "    </tr>\n",
       "    <tr>\n",
       "      <th>1972</th>\n",
       "      <td>3.954042</td>\n",
       "    </tr>\n",
       "    <tr>\n",
       "      <th>1973</th>\n",
       "      <td>4.033123</td>\n",
       "    </tr>\n",
       "    <tr>\n",
       "      <th>1974</th>\n",
       "      <td>4.113785</td>\n",
       "    </tr>\n",
       "    <tr>\n",
       "      <th>1975</th>\n",
       "      <td>4.196061</td>\n",
       "    </tr>\n",
       "    <tr>\n",
       "      <th>1976</th>\n",
       "      <td>4.279982</td>\n",
       "    </tr>\n",
       "    <tr>\n",
       "      <th>1977</th>\n",
       "      <td>4.365582</td>\n",
       "    </tr>\n",
       "    <tr>\n",
       "      <th>1978</th>\n",
       "      <td>4.452893</td>\n",
       "    </tr>\n",
       "    <tr>\n",
       "      <th>1979</th>\n",
       "      <td>4.541951</td>\n",
       "    </tr>\n",
       "    <tr>\n",
       "      <th>...</th>\n",
       "      <td>...</td>\n",
       "    </tr>\n",
       "    <tr>\n",
       "      <th>1987</th>\n",
       "      <td>5.213019</td>\n",
       "    </tr>\n",
       "    <tr>\n",
       "      <th>1988</th>\n",
       "      <td>5.301640</td>\n",
       "    </tr>\n",
       "    <tr>\n",
       "      <th>1989</th>\n",
       "      <td>5.391768</td>\n",
       "    </tr>\n",
       "    <tr>\n",
       "      <th>1990</th>\n",
       "      <td>5.483428</td>\n",
       "    </tr>\n",
       "    <tr>\n",
       "      <th>1991</th>\n",
       "      <td>5.576647</td>\n",
       "    </tr>\n",
       "    <tr>\n",
       "      <th>1992</th>\n",
       "      <td>5.671450</td>\n",
       "    </tr>\n",
       "    <tr>\n",
       "      <th>1993</th>\n",
       "      <td>5.767864</td>\n",
       "    </tr>\n",
       "    <tr>\n",
       "      <th>1994</th>\n",
       "      <td>5.865918</td>\n",
       "    </tr>\n",
       "    <tr>\n",
       "      <th>1995</th>\n",
       "      <td>5.965639</td>\n",
       "    </tr>\n",
       "    <tr>\n",
       "      <th>1996</th>\n",
       "      <td>6.067054</td>\n",
       "    </tr>\n",
       "    <tr>\n",
       "      <th>1997</th>\n",
       "      <td>6.170194</td>\n",
       "    </tr>\n",
       "    <tr>\n",
       "      <th>1998</th>\n",
       "      <td>6.275088</td>\n",
       "    </tr>\n",
       "    <tr>\n",
       "      <th>1999</th>\n",
       "      <td>6.381764</td>\n",
       "    </tr>\n",
       "    <tr>\n",
       "      <th>2000</th>\n",
       "      <td>6.490254</td>\n",
       "    </tr>\n",
       "    <tr>\n",
       "      <th>2001</th>\n",
       "      <td>6.600588</td>\n",
       "    </tr>\n",
       "    <tr>\n",
       "      <th>2002</th>\n",
       "      <td>6.712798</td>\n",
       "    </tr>\n",
       "    <tr>\n",
       "      <th>2003</th>\n",
       "      <td>6.826916</td>\n",
       "    </tr>\n",
       "    <tr>\n",
       "      <th>2004</th>\n",
       "      <td>6.942974</td>\n",
       "    </tr>\n",
       "    <tr>\n",
       "      <th>2005</th>\n",
       "      <td>7.061004</td>\n",
       "    </tr>\n",
       "    <tr>\n",
       "      <th>2006</th>\n",
       "      <td>7.181041</td>\n",
       "    </tr>\n",
       "    <tr>\n",
       "      <th>2007</th>\n",
       "      <td>7.303119</td>\n",
       "    </tr>\n",
       "    <tr>\n",
       "      <th>2008</th>\n",
       "      <td>7.427272</td>\n",
       "    </tr>\n",
       "    <tr>\n",
       "      <th>2009</th>\n",
       "      <td>7.553536</td>\n",
       "    </tr>\n",
       "    <tr>\n",
       "      <th>2010</th>\n",
       "      <td>7.681946</td>\n",
       "    </tr>\n",
       "    <tr>\n",
       "      <th>2011</th>\n",
       "      <td>7.812539</td>\n",
       "    </tr>\n",
       "    <tr>\n",
       "      <th>2012</th>\n",
       "      <td>7.945352</td>\n",
       "    </tr>\n",
       "    <tr>\n",
       "      <th>2013</th>\n",
       "      <td>8.080423</td>\n",
       "    </tr>\n",
       "    <tr>\n",
       "      <th>2014</th>\n",
       "      <td>8.217790</td>\n",
       "    </tr>\n",
       "    <tr>\n",
       "      <th>2015</th>\n",
       "      <td>8.357492</td>\n",
       "    </tr>\n",
       "    <tr>\n",
       "      <th>2016</th>\n",
       "      <td>8.499570</td>\n",
       "    </tr>\n",
       "  </tbody>\n",
       "</table>\n",
       "<p>67 rows × 1 columns</p>\n",
       "</div>"
      ],
      "text/plain": [
       "1950    2.557629\n",
       "1951    2.608781\n",
       "1952    2.660957\n",
       "1953    2.714176\n",
       "1954    2.768460\n",
       "1955    2.823829\n",
       "1956    2.880305\n",
       "1957    2.937911\n",
       "1958    2.996670\n",
       "1959    3.056603\n",
       "1960    3.117735\n",
       "1961    3.180090\n",
       "1962    3.243692\n",
       "1963    3.308565\n",
       "1964    3.374737\n",
       "1965    3.442231\n",
       "1966    3.511076\n",
       "1967    3.581298\n",
       "1968    3.652924\n",
       "1969    3.725982\n",
       "1970    3.800502\n",
       "1971    3.876512\n",
       "1972    3.954042\n",
       "1973    4.033123\n",
       "1974    4.113785\n",
       "1975    4.196061\n",
       "1976    4.279982\n",
       "1977    4.365582\n",
       "1978    4.452893\n",
       "1979    4.541951\n",
       "          ...   \n",
       "1987    5.213019\n",
       "1988    5.301640\n",
       "1989    5.391768\n",
       "1990    5.483428\n",
       "1991    5.576647\n",
       "1992    5.671450\n",
       "1993    5.767864\n",
       "1994    5.865918\n",
       "1995    5.965639\n",
       "1996    6.067054\n",
       "1997    6.170194\n",
       "1998    6.275088\n",
       "1999    6.381764\n",
       "2000    6.490254\n",
       "2001    6.600588\n",
       "2002    6.712798\n",
       "2003    6.826916\n",
       "2004    6.942974\n",
       "2005    7.061004\n",
       "2006    7.181041\n",
       "2007    7.303119\n",
       "2008    7.427272\n",
       "2009    7.553536\n",
       "2010    7.681946\n",
       "2011    7.812539\n",
       "2012    7.945352\n",
       "2013    8.080423\n",
       "2014    8.217790\n",
       "2015    8.357492\n",
       "2016    8.499570\n",
       "Length: 67, dtype: float64"
      ]
     },
     "execution_count": 29,
     "metadata": {},
     "output_type": "execute_result"
    }
   ],
   "source": [
    "results = run_simulation(system, update_func2)"
   ]
  },
  {
   "cell_type": "code",
   "execution_count": 30,
   "metadata": {},
   "outputs": [
    {
     "data": {
      "image/png": "[encoded data removed]",
      "text/plain": [
       "<Figure size 432x288 with 1 Axes>"
      ]
     },
     "metadata": {},
     "output_type": "display_data"
    }
   ],
   "source": [
    "\n",
    "plot_results(census, un, results, 'Proportional model, combined birth and death')"
   ]
  },
  {
   "cell_type": "code",
   "execution_count": null,
   "metadata": {},
   "outputs": [],
   "source": []
  }
 ],
 "metadata": {
  "kernelspec": {
   "display_name": "Python 3",
   "language": "python",
   "name": "python3"
  },
  "language_info": {
   "codemirror_mode": {
    "name": "ipython",
    "version": 3
   },
   "file_extension": ".py",
   "mimetype": "text/x-python",
   "name": "python",
   "nbconvert_exporter": "python",
   "pygments_lexer": "ipython3",
   "version": "3.6.5"
  }
 },
 "nbformat": 4,
 "nbformat_minor": 2
}
